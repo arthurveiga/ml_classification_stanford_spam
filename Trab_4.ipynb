{
 "cells": [
  {
   "cell_type": "code",
   "execution_count": 1,
   "metadata": {},
   "outputs": [],
   "source": [
    "import scipy.io\n",
    "import numpy as np"
   ]
  },
  {
   "cell_type": "code",
   "execution_count": 2,
   "metadata": {},
   "outputs": [],
   "source": [
    "# carregando os dados\n",
    "data = scipy.io.loadmat(\"data/spam_data.mat\")\n",
    "names = [x[0] for x in data['names'][:,1:].ravel()]\n",
    "X = np.concatenate([data['P_train'].transpose(),data['P_test'].transpose()])\n",
    "y = np.concatenate([data['T_train'].transpose(),data['T_test'].transpose()]).ravel()"
   ]
  },
  {
   "cell_type": "markdown",
   "metadata": {},
   "source": [
    "###  Um teste com SVM pra ver se a manipulação dos dados não estragou tudo kkk"
   ]
  },
  {
   "cell_type": "code",
   "execution_count": 3,
   "metadata": {},
   "outputs": [],
   "source": [
    "from sklearn import svm\n",
    "from sklearn.model_selection import GridSearchCV\n",
    "from sklearn.preprocessing import StandardScaler\n",
    "from sklearn.model_selection import StratifiedShuffleSplit"
   ]
  },
  {
   "cell_type": "code",
   "execution_count": 4,
   "metadata": {},
   "outputs": [
    {
     "name": "stdout",
     "output_type": "stream",
     "text": [
      "Acurácia com SVM kernel linear 0.8125813449023861\n"
     ]
    }
   ],
   "source": [
    "cv = StratifiedShuffleSplit(n_splits=10, test_size=0.1)\n",
    "grid = GridSearchCV(svm.LinearSVC(), param_grid={}, cv=cv, scoring=\"accuracy\", return_train_score=False)\n",
    "grid.fit(X, y)\n",
    "print(\"Acurácia com SVM kernel linear\", grid.cv_results_['mean_test_score'][0])"
   ]
  },
  {
   "cell_type": "code",
   "execution_count": null,
   "metadata": {},
   "outputs": [],
   "source": []
  }
 ],
 "metadata": {
  "kernelspec": {
   "display_name": "Python 3",
   "language": "python",
   "name": "python3"
  },
  "language_info": {
   "codemirror_mode": {
    "name": "ipython",
    "version": 3
   },
   "file_extension": ".py",
   "mimetype": "text/x-python",
   "name": "python",
   "nbconvert_exporter": "python",
   "pygments_lexer": "ipython3",
   "version": "3.7.0"
  }
 },
 "nbformat": 4,
 "nbformat_minor": 2
}
