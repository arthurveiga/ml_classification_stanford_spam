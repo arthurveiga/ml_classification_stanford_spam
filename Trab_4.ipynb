{
 "cells": [
  {
   "cell_type": "code",
   "execution_count": 1,
   "metadata": {},
   "outputs": [],
   "source": [
    "import scipy.io\n",
    "import numpy as np\n",
    "import matplotlib.pyplot as plt\n",
    "import pandas as pd\n",
    "from sklearn.neural_network import MLPClassifier\n",
    "from sklearn.model_selection import GridSearchCV\n",
    "from sklearn.preprocessing import StandardScaler\n",
    "from sklearn.model_selection import StratifiedShuffleSplit\n",
    "import warnings\n",
    "warnings.filterwarnings(\"ignore\")"
   ]
  },
  {
   "cell_type": "code",
   "execution_count": 2,
   "metadata": {},
   "outputs": [],
   "source": [
    "# carregando os dados\n",
    "data = scipy.io.loadmat(\"data/spam_data.mat\")\n",
    "names = [x[0] for x in data['names'][:,1:].ravel()]\n",
    "X = np.concatenate([data['P_train'].transpose(),data['P_test'].transpose()])\n",
    "y = np.concatenate([data['T_train'].transpose(),data['T_test'].transpose()]).ravel()\n",
    "# for i in range(57):\n",
    "#     plt.scatter(y, X.transpose()[i], color=\"r\")\n",
    "# plt.show()\n"
   ]
  },
  {
   "cell_type": "code",
   "execution_count": null,
   "metadata": {},
   "outputs": [],
   "source": []
  },
  {
   "cell_type": "code",
   "execution_count": 12,
   "metadata": {},
   "outputs": [
    {
     "data": {
      "text/plain": [
       "{'activation': ['relu', 'tanh', 'identity', 'logistic']}"
      ]
     },
     "execution_count": 12,
     "metadata": {},
     "output_type": "execute_result"
    }
   ],
   "source": [
    "param_grid = {\"activation\":[\"relu\", \"tanh\", \"identity\", \"logistic\"]}\n",
    "param_grid"
   ]
  },
  {
   "cell_type": "code",
   "execution_count": 13,
   "metadata": {},
   "outputs": [
    {
     "name": "stdout",
     "output_type": "stream",
     "text": [
      "Melhor f1-score: 0.9546773149384685 obtida com os parametros: {'activation': 'logistic'}\n"
     ]
    }
   ],
   "source": [
    "# demora muito pra rodar porque testa todas combinações de parâmetro do param_grid\n",
    "cv = StratifiedShuffleSplit(n_splits=10, test_size=0.1)\n",
    "grid = GridSearchCV(MLPClassifier(learning_rate=\"adaptive\"), param_grid=param_grid, cv=cv, scoring=\"f1\", return_train_score=False)\n",
    "grid.fit(X, y)\n",
    "best_index = np.argmin(grid.cv_results_['rank_test_score'])\n",
    "print(\"Melhor f1-score:\", grid.cv_results_['mean_test_score'][best_index], \"obtida com os parametros:\",grid.cv_results_['params'][best_index])"
   ]
  },
  {
   "cell_type": "code",
   "execution_count": 15,
   "metadata": {},
   "outputs": [
    {
     "data": {
      "text/html": [
       "<div>\n",
       "<style scoped>\n",
       "    .dataframe tbody tr th:only-of-type {\n",
       "        vertical-align: middle;\n",
       "    }\n",
       "\n",
       "    .dataframe tbody tr th {\n",
       "        vertical-align: top;\n",
       "    }\n",
       "\n",
       "    .dataframe thead th {\n",
       "        text-align: right;\n",
       "    }\n",
       "</style>\n",
       "<table border=\"1\" class=\"dataframe\">\n",
       "  <thead>\n",
       "    <tr style=\"text-align: right;\">\n",
       "      <th></th>\n",
       "      <th>mean_fit_time</th>\n",
       "      <th>std_fit_time</th>\n",
       "      <th>mean_score_time</th>\n",
       "      <th>std_score_time</th>\n",
       "      <th>param_activation</th>\n",
       "      <th>params</th>\n",
       "      <th>split0_test_score</th>\n",
       "      <th>split1_test_score</th>\n",
       "      <th>split2_test_score</th>\n",
       "      <th>split3_test_score</th>\n",
       "      <th>split4_test_score</th>\n",
       "      <th>split5_test_score</th>\n",
       "      <th>split6_test_score</th>\n",
       "      <th>split7_test_score</th>\n",
       "      <th>split8_test_score</th>\n",
       "      <th>split9_test_score</th>\n",
       "      <th>mean_test_score</th>\n",
       "      <th>std_test_score</th>\n",
       "      <th>rank_test_score</th>\n",
       "    </tr>\n",
       "  </thead>\n",
       "  <tbody>\n",
       "    <tr>\n",
       "      <th>0</th>\n",
       "      <td>1.304225</td>\n",
       "      <td>0.282936</td>\n",
       "      <td>0.001533</td>\n",
       "      <td>0.000212</td>\n",
       "      <td>relu</td>\n",
       "      <td>{'activation': 'relu'}</td>\n",
       "      <td>0.943739</td>\n",
       "      <td>0.939716</td>\n",
       "      <td>0.921348</td>\n",
       "      <td>0.919932</td>\n",
       "      <td>0.949212</td>\n",
       "      <td>0.946237</td>\n",
       "      <td>0.954386</td>\n",
       "      <td>0.953069</td>\n",
       "      <td>0.928440</td>\n",
       "      <td>0.948490</td>\n",
       "      <td>0.940457</td>\n",
       "      <td>0.012124</td>\n",
       "      <td>3</td>\n",
       "    </tr>\n",
       "    <tr>\n",
       "      <th>1</th>\n",
       "      <td>4.214718</td>\n",
       "      <td>1.132992</td>\n",
       "      <td>0.002371</td>\n",
       "      <td>0.000483</td>\n",
       "      <td>tanh</td>\n",
       "      <td>{'activation': 'tanh'}</td>\n",
       "      <td>0.951351</td>\n",
       "      <td>0.955277</td>\n",
       "      <td>0.943327</td>\n",
       "      <td>0.942446</td>\n",
       "      <td>0.942238</td>\n",
       "      <td>0.953237</td>\n",
       "      <td>0.958707</td>\n",
       "      <td>0.974545</td>\n",
       "      <td>0.940325</td>\n",
       "      <td>0.964029</td>\n",
       "      <td>0.952548</td>\n",
       "      <td>0.010515</td>\n",
       "      <td>2</td>\n",
       "    </tr>\n",
       "    <tr>\n",
       "      <th>2</th>\n",
       "      <td>0.776456</td>\n",
       "      <td>0.164087</td>\n",
       "      <td>0.001469</td>\n",
       "      <td>0.000139</td>\n",
       "      <td>identity</td>\n",
       "      <td>{'activation': 'identity'}</td>\n",
       "      <td>0.928702</td>\n",
       "      <td>0.893401</td>\n",
       "      <td>0.925477</td>\n",
       "      <td>0.900563</td>\n",
       "      <td>0.927176</td>\n",
       "      <td>0.940754</td>\n",
       "      <td>0.936170</td>\n",
       "      <td>0.887597</td>\n",
       "      <td>0.910624</td>\n",
       "      <td>0.942207</td>\n",
       "      <td>0.919267</td>\n",
       "      <td>0.018869</td>\n",
       "      <td>4</td>\n",
       "    </tr>\n",
       "    <tr>\n",
       "      <th>3</th>\n",
       "      <td>4.702998</td>\n",
       "      <td>0.758019</td>\n",
       "      <td>0.002235</td>\n",
       "      <td>0.000449</td>\n",
       "      <td>logistic</td>\n",
       "      <td>{'activation': 'logistic'}</td>\n",
       "      <td>0.955117</td>\n",
       "      <td>0.950000</td>\n",
       "      <td>0.949275</td>\n",
       "      <td>0.946043</td>\n",
       "      <td>0.947559</td>\n",
       "      <td>0.951526</td>\n",
       "      <td>0.966011</td>\n",
       "      <td>0.976492</td>\n",
       "      <td>0.946043</td>\n",
       "      <td>0.958707</td>\n",
       "      <td>0.954677</td>\n",
       "      <td>0.009389</td>\n",
       "      <td>1</td>\n",
       "    </tr>\n",
       "  </tbody>\n",
       "</table>\n",
       "</div>"
      ],
      "text/plain": [
       "   mean_fit_time  std_fit_time  mean_score_time  std_score_time  \\\n",
       "0       1.304225      0.282936         0.001533        0.000212   \n",
       "1       4.214718      1.132992         0.002371        0.000483   \n",
       "2       0.776456      0.164087         0.001469        0.000139   \n",
       "3       4.702998      0.758019         0.002235        0.000449   \n",
       "\n",
       "  param_activation                      params  split0_test_score  \\\n",
       "0             relu      {'activation': 'relu'}           0.943739   \n",
       "1             tanh      {'activation': 'tanh'}           0.951351   \n",
       "2         identity  {'activation': 'identity'}           0.928702   \n",
       "3         logistic  {'activation': 'logistic'}           0.955117   \n",
       "\n",
       "   split1_test_score  split2_test_score  split3_test_score  split4_test_score  \\\n",
       "0           0.939716           0.921348           0.919932           0.949212   \n",
       "1           0.955277           0.943327           0.942446           0.942238   \n",
       "2           0.893401           0.925477           0.900563           0.927176   \n",
       "3           0.950000           0.949275           0.946043           0.947559   \n",
       "\n",
       "   split5_test_score  split6_test_score  split7_test_score  split8_test_score  \\\n",
       "0           0.946237           0.954386           0.953069           0.928440   \n",
       "1           0.953237           0.958707           0.974545           0.940325   \n",
       "2           0.940754           0.936170           0.887597           0.910624   \n",
       "3           0.951526           0.966011           0.976492           0.946043   \n",
       "\n",
       "   split9_test_score  mean_test_score  std_test_score  rank_test_score  \n",
       "0           0.948490         0.940457        0.012124                3  \n",
       "1           0.964029         0.952548        0.010515                2  \n",
       "2           0.942207         0.919267        0.018869                4  \n",
       "3           0.958707         0.954677        0.009389                1  "
      ]
     },
     "execution_count": 15,
     "metadata": {},
     "output_type": "execute_result"
    }
   ],
   "source": [
    "pd.DataFrame(grid.cv_results_)"
   ]
  },
  {
   "cell_type": "code",
   "execution_count": 18,
   "metadata": {},
   "outputs": [
    {
     "data": {
      "text/plain": [
       "{'learning_rate_init': array([0.0001, 0.0002, 0.0003, 0.0004, 0.0005, 0.0006, 0.0007, 0.0008,\n",
       "        0.0009, 0.001 , 0.0011, 0.0012, 0.0013, 0.0014, 0.0015, 0.0016,\n",
       "        0.0017, 0.0018, 0.0019, 0.002 , 0.0021, 0.0022, 0.0023, 0.0024,\n",
       "        0.0025, 0.0026, 0.0027, 0.0028, 0.0029, 0.003 ])}"
      ]
     },
     "execution_count": 18,
     "metadata": {},
     "output_type": "execute_result"
    }
   ],
   "source": [
    "param_grid = {\"learning_rate_init\": np.linspace(0.0001,0.003,30) }\n",
    "param_grid"
   ]
  },
  {
   "cell_type": "code",
   "execution_count": 19,
   "metadata": {},
   "outputs": [
    {
     "name": "stdout",
     "output_type": "stream",
     "text": [
      "Melhor f1-score: 0.9460524699172107 obtida com os parametros: {'learning_rate_init': 0.00030000000000000003}\n"
     ]
    }
   ],
   "source": [
    "# demora muito pra rodar porque testa todas combinações de parâmetro do param_grid\n",
    "cv = StratifiedShuffleSplit(n_splits=10, test_size=0.1)\n",
    "grid = GridSearchCV(MLPClassifier(learning_rate=\"adaptive\"), param_grid=param_grid, cv=cv, scoring=\"f1\", return_train_score=False)\n",
    "grid.fit(X, y)\n",
    "best_index = np.argmin(grid.cv_results_['rank_test_score'])\n",
    "print(\"Melhor f1-score:\", grid.cv_results_['mean_test_score'][best_index], \"obtida com os parametros:\",grid.cv_results_['params'][best_index])"
   ]
  },
  {
   "cell_type": "code",
   "execution_count": 29,
   "metadata": {},
   "outputs": [],
   "source": [
    "learning_rate_init = np.linspace(0.0001,0.003,30)\n",
    "f1_score = grid.cv_results_['mean_test_score']"
   ]
  },
  {
   "cell_type": "code",
   "execution_count": 36,
   "metadata": {},
   "outputs": [
    {
     "data": {
      "image/png": "[encoded data removed]",
      "text/plain": [
       "<Figure size 504x504 with 1 Axes>"
      ]
     },
     "metadata": {
      "needs_background": "light"
     },
     "output_type": "display_data"
    }
   ],
   "source": [
    "plt.figure(1, figsize=(7,7)).gca()\n",
    "plt.plot(learning_rate_init,f1_score, \"r.\")\n",
    "plt.ylabel(\"F1-SCORE\")\n",
    "plt.xlabel(\"LEARNING RATE INICIAL\")\n",
    "plt.title(\"MLP com função de ativação sigmóide\")\n",
    "plt.show()"
   ]
  },
  {
   "cell_type": "code",
   "execution_count": 8,
   "metadata": {},
   "outputs": [
    {
     "data": {
      "text/plain": [
       "{'hidden_layer_sizes': [(100,), (114, 114), (228, 228), (57, 57), (57,)]}"
      ]
     },
     "execution_count": 8,
     "metadata": {},
     "output_type": "execute_result"
    }
   ],
   "source": [
    "param_grid = {\"hidden_layer_sizes\": [(100,),(114,114),(228,228),(57,57),(57,)] }\n",
    "param_grid"
   ]
  },
  {
   "cell_type": "code",
   "execution_count": 9,
   "metadata": {},
   "outputs": [
    {
     "name": "stdout",
     "output_type": "stream",
     "text": [
      "Melhor f1-score: 0.9441685909159389 obtida com os parametros: {'hidden_layer_sizes': (57,)}\n"
     ]
    }
   ],
   "source": [
    "cv = StratifiedShuffleSplit(n_splits=10, test_size=0.1)\n",
    "grid = GridSearchCV(MLPClassifier(learning_rate=\"adaptive\", learning_rate_init=0.0003), param_grid=param_grid, cv=cv, scoring=\"f1\", return_train_score=False)\n",
    "grid.fit(X, y)\n",
    "best_index = np.argmin(grid.cv_results_['rank_test_score'])\n",
    "print(\"Melhor f1-score:\", grid.cv_results_['mean_test_score'][best_index], \"obtida com os parametros:\",grid.cv_results_['params'][best_index])"
   ]
  },
  {
   "cell_type": "code",
   "execution_count": 10,
   "metadata": {},
   "outputs": [
    {
     "data": {
      "text/html": [
       "<div>\n",
       "<style scoped>\n",
       "    .dataframe tbody tr th:only-of-type {\n",
       "        vertical-align: middle;\n",
       "    }\n",
       "\n",
       "    .dataframe tbody tr th {\n",
       "        vertical-align: top;\n",
       "    }\n",
       "\n",
       "    .dataframe thead th {\n",
       "        text-align: right;\n",
       "    }\n",
       "</style>\n",
       "<table border=\"1\" class=\"dataframe\">\n",
       "  <thead>\n",
       "    <tr style=\"text-align: right;\">\n",
       "      <th></th>\n",
       "      <th>mean_fit_time</th>\n",
       "      <th>std_fit_time</th>\n",
       "      <th>mean_score_time</th>\n",
       "      <th>std_score_time</th>\n",
       "      <th>param_hidden_layer_sizes</th>\n",
       "      <th>params</th>\n",
       "      <th>split0_test_score</th>\n",
       "      <th>split1_test_score</th>\n",
       "      <th>split2_test_score</th>\n",
       "      <th>split3_test_score</th>\n",
       "      <th>split4_test_score</th>\n",
       "      <th>split5_test_score</th>\n",
       "      <th>split6_test_score</th>\n",
       "      <th>split7_test_score</th>\n",
       "      <th>split8_test_score</th>\n",
       "      <th>split9_test_score</th>\n",
       "      <th>mean_test_score</th>\n",
       "      <th>std_test_score</th>\n",
       "      <th>rank_test_score</th>\n",
       "    </tr>\n",
       "  </thead>\n",
       "  <tbody>\n",
       "    <tr>\n",
       "      <th>0</th>\n",
       "      <td>2.866199</td>\n",
       "      <td>0.473079</td>\n",
       "      <td>0.001728</td>\n",
       "      <td>0.000520</td>\n",
       "      <td>(100,)</td>\n",
       "      <td>{'hidden_layer_sizes': (100,)}</td>\n",
       "      <td>0.950355</td>\n",
       "      <td>0.934783</td>\n",
       "      <td>0.937611</td>\n",
       "      <td>0.939130</td>\n",
       "      <td>0.951351</td>\n",
       "      <td>0.948307</td>\n",
       "      <td>0.932849</td>\n",
       "      <td>0.915078</td>\n",
       "      <td>0.951872</td>\n",
       "      <td>0.952727</td>\n",
       "      <td>0.941406</td>\n",
       "      <td>0.011376</td>\n",
       "      <td>2</td>\n",
       "    </tr>\n",
       "    <tr>\n",
       "      <th>1</th>\n",
       "      <td>3.684588</td>\n",
       "      <td>0.861019</td>\n",
       "      <td>0.002563</td>\n",
       "      <td>0.000407</td>\n",
       "      <td>(114, 114)</td>\n",
       "      <td>{'hidden_layer_sizes': (114, 114)}</td>\n",
       "      <td>0.944938</td>\n",
       "      <td>0.895753</td>\n",
       "      <td>0.919325</td>\n",
       "      <td>0.936937</td>\n",
       "      <td>0.948122</td>\n",
       "      <td>0.907721</td>\n",
       "      <td>0.935018</td>\n",
       "      <td>0.934744</td>\n",
       "      <td>0.950355</td>\n",
       "      <td>0.945455</td>\n",
       "      <td>0.931837</td>\n",
       "      <td>0.017464</td>\n",
       "      <td>4</td>\n",
       "    </tr>\n",
       "    <tr>\n",
       "      <th>2</th>\n",
       "      <td>5.587146</td>\n",
       "      <td>1.364598</td>\n",
       "      <td>0.004104</td>\n",
       "      <td>0.000602</td>\n",
       "      <td>(228, 228)</td>\n",
       "      <td>{'hidden_layer_sizes': (228, 228)}</td>\n",
       "      <td>0.921233</td>\n",
       "      <td>0.932849</td>\n",
       "      <td>0.928440</td>\n",
       "      <td>0.938628</td>\n",
       "      <td>0.937716</td>\n",
       "      <td>0.882012</td>\n",
       "      <td>0.868590</td>\n",
       "      <td>0.923933</td>\n",
       "      <td>0.941818</td>\n",
       "      <td>0.941818</td>\n",
       "      <td>0.921704</td>\n",
       "      <td>0.024338</td>\n",
       "      <td>5</td>\n",
       "    </tr>\n",
       "    <tr>\n",
       "      <th>3</th>\n",
       "      <td>3.311663</td>\n",
       "      <td>0.935309</td>\n",
       "      <td>0.001891</td>\n",
       "      <td>0.000266</td>\n",
       "      <td>(57, 57)</td>\n",
       "      <td>{'hidden_layer_sizes': (57, 57)}</td>\n",
       "      <td>0.951699</td>\n",
       "      <td>0.941799</td>\n",
       "      <td>0.939891</td>\n",
       "      <td>0.946996</td>\n",
       "      <td>0.953737</td>\n",
       "      <td>0.922794</td>\n",
       "      <td>0.935484</td>\n",
       "      <td>0.921960</td>\n",
       "      <td>0.944938</td>\n",
       "      <td>0.946087</td>\n",
       "      <td>0.940539</td>\n",
       "      <td>0.010384</td>\n",
       "      <td>3</td>\n",
       "    </tr>\n",
       "    <tr>\n",
       "      <th>4</th>\n",
       "      <td>3.018463</td>\n",
       "      <td>0.666169</td>\n",
       "      <td>0.001557</td>\n",
       "      <td>0.000088</td>\n",
       "      <td>(57,)</td>\n",
       "      <td>{'hidden_layer_sizes': (57,)}</td>\n",
       "      <td>0.941392</td>\n",
       "      <td>0.943060</td>\n",
       "      <td>0.940754</td>\n",
       "      <td>0.936937</td>\n",
       "      <td>0.942029</td>\n",
       "      <td>0.946237</td>\n",
       "      <td>0.944444</td>\n",
       "      <td>0.932358</td>\n",
       "      <td>0.953901</td>\n",
       "      <td>0.960573</td>\n",
       "      <td>0.944169</td>\n",
       "      <td>0.007649</td>\n",
       "      <td>1</td>\n",
       "    </tr>\n",
       "  </tbody>\n",
       "</table>\n",
       "</div>"
      ],
      "text/plain": [
       "   mean_fit_time  std_fit_time  mean_score_time  std_score_time  \\\n",
       "0       2.866199      0.473079         0.001728        0.000520   \n",
       "1       3.684588      0.861019         0.002563        0.000407   \n",
       "2       5.587146      1.364598         0.004104        0.000602   \n",
       "3       3.311663      0.935309         0.001891        0.000266   \n",
       "4       3.018463      0.666169         0.001557        0.000088   \n",
       "\n",
       "  param_hidden_layer_sizes                              params  \\\n",
       "0                   (100,)      {'hidden_layer_sizes': (100,)}   \n",
       "1               (114, 114)  {'hidden_layer_sizes': (114, 114)}   \n",
       "2               (228, 228)  {'hidden_layer_sizes': (228, 228)}   \n",
       "3                 (57, 57)    {'hidden_layer_sizes': (57, 57)}   \n",
       "4                    (57,)       {'hidden_layer_sizes': (57,)}   \n",
       "\n",
       "   split0_test_score  split1_test_score  split2_test_score  split3_test_score  \\\n",
       "0           0.950355           0.934783           0.937611           0.939130   \n",
       "1           0.944938           0.895753           0.919325           0.936937   \n",
       "2           0.921233           0.932849           0.928440           0.938628   \n",
       "3           0.951699           0.941799           0.939891           0.946996   \n",
       "4           0.941392           0.943060           0.940754           0.936937   \n",
       "\n",
       "   split4_test_score  split5_test_score  split6_test_score  split7_test_score  \\\n",
       "0           0.951351           0.948307           0.932849           0.915078   \n",
       "1           0.948122           0.907721           0.935018           0.934744   \n",
       "2           0.937716           0.882012           0.868590           0.923933   \n",
       "3           0.953737           0.922794           0.935484           0.921960   \n",
       "4           0.942029           0.946237           0.944444           0.932358   \n",
       "\n",
       "   split8_test_score  split9_test_score  mean_test_score  std_test_score  \\\n",
       "0           0.951872           0.952727         0.941406        0.011376   \n",
       "1           0.950355           0.945455         0.931837        0.017464   \n",
       "2           0.941818           0.941818         0.921704        0.024338   \n",
       "3           0.944938           0.946087         0.940539        0.010384   \n",
       "4           0.953901           0.960573         0.944169        0.007649   \n",
       "\n",
       "   rank_test_score  \n",
       "0                2  \n",
       "1                4  \n",
       "2                5  \n",
       "3                3  \n",
       "4                1  "
      ]
     },
     "execution_count": 10,
     "metadata": {},
     "output_type": "execute_result"
    }
   ],
   "source": [
    "pd.DataFrame(grid.cv_results_)"
   ]
  },
  {
   "cell_type": "code",
   "execution_count": null,
   "metadata": {},
   "outputs": [],
   "source": []
  }
 ],
 "metadata": {
  "kernelspec": {
   "display_name": "Python 3",
   "language": "python",
   "name": "python3"
  },
  "language_info": {
   "codemirror_mode": {
    "name": "ipython",
    "version": 3
   },
   "file_extension": ".py",
   "mimetype": "text/x-python",
   "name": "python",
   "nbconvert_exporter": "python",
   "pygments_lexer": "ipython3",
   "version": "3.6.6"
  }
 },
 "nbformat": 4,
 "nbformat_minor": 2
}
