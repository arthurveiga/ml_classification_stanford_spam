{
 "cells": [
  {
   "cell_type": "code",
   "execution_count": 38,
   "metadata": {},
   "outputs": [],
   "source": [
    "import scipy.io\n",
    "import numpy as np"
   ]
  },
  {
   "cell_type": "code",
   "execution_count": 2,
   "metadata": {},
   "outputs": [],
   "source": [
    "# carregando os dados\n",
    "data = scipy.io.loadmat(\"data/spam_data.mat\")"
   ]
  },
  {
   "cell_type": "code",
   "execution_count": 11,
   "metadata": {},
   "outputs": [
    {
     "data": {
      "text/plain": [
       "{'__header__': b'MATLAB 5.0 MAT-file, Platform: GLNX86, Created on: Mon Feb  5 00:40:08 2001',\n",
       " '__version__': '1.0',\n",
       " '__globals__': [],\n",
       " 'names': array([[array(['C'], dtype='<U1'), array(['make'], dtype='<U4')],\n",
       "        [array(['C'], dtype='<U1'), array(['address'], dtype='<U7')],\n",
       "        [array(['C'], dtype='<U1'), array(['all'], dtype='<U3')],\n",
       "        [array(['C'], dtype='<U1'), array(['3d'], dtype='<U2')],\n",
       "        [array(['C'], dtype='<U1'), array(['our'], dtype='<U3')],\n",
       "        [array(['C'], dtype='<U1'), array(['over'], dtype='<U4')],\n",
       "        [array(['C'], dtype='<U1'), array(['move'], dtype='<U4')],\n",
       "        [array(['C'], dtype='<U1'), array(['internet'], dtype='<U8')],\n",
       "        [array(['C'], dtype='<U1'), array(['order'], dtype='<U5')],\n",
       "        [array(['C'], dtype='<U1'), array(['mail'], dtype='<U4')],\n",
       "        [array(['C'], dtype='<U1'), array(['receive'], dtype='<U7')],\n",
       "        [array(['C'], dtype='<U1'), array(['will'], dtype='<U4')],\n",
       "        [array(['C'], dtype='<U1'), array(['people'], dtype='<U6')],\n",
       "        [array(['C'], dtype='<U1'), array(['report'], dtype='<U6')],\n",
       "        [array(['C'], dtype='<U1'), array(['addresses'], dtype='<U9')],\n",
       "        [array(['C'], dtype='<U1'), array(['free'], dtype='<U4')],\n",
       "        [array(['C'], dtype='<U1'), array(['business'], dtype='<U8')],\n",
       "        [array(['C'], dtype='<U1'), array(['email'], dtype='<U5')],\n",
       "        [array(['C'], dtype='<U1'), array(['you'], dtype='<U3')],\n",
       "        [array(['C'], dtype='<U1'), array(['credit'], dtype='<U6')],\n",
       "        [array(['C'], dtype='<U1'), array(['your'], dtype='<U4')],\n",
       "        [array(['C'], dtype='<U1'), array(['font'], dtype='<U4')],\n",
       "        [array(['C'], dtype='<U1'), array(['000'], dtype='<U3')],\n",
       "        [array(['C'], dtype='<U1'), array(['money'], dtype='<U5')],\n",
       "        [array(['C'], dtype='<U1'), array(['hp'], dtype='<U2')],\n",
       "        [array(['C'], dtype='<U1'), array(['hpl'], dtype='<U3')],\n",
       "        [array(['C'], dtype='<U1'), array(['george'], dtype='<U6')],\n",
       "        [array(['C'], dtype='<U1'), array(['650'], dtype='<U3')],\n",
       "        [array(['C'], dtype='<U1'), array(['lab'], dtype='<U3')],\n",
       "        [array(['C'], dtype='<U1'), array(['labs'], dtype='<U4')],\n",
       "        [array(['C'], dtype='<U1'), array(['telnet'], dtype='<U6')],\n",
       "        [array(['C'], dtype='<U1'), array(['857'], dtype='<U3')],\n",
       "        [array(['C'], dtype='<U1'), array(['data'], dtype='<U4')],\n",
       "        [array(['C'], dtype='<U1'), array(['415'], dtype='<U3')],\n",
       "        [array(['C'], dtype='<U1'), array(['85'], dtype='<U2')],\n",
       "        [array(['C'], dtype='<U1'), array(['technology'], dtype='<U10')],\n",
       "        [array(['C'], dtype='<U1'), array(['1999'], dtype='<U4')],\n",
       "        [array(['C'], dtype='<U1'), array(['parts'], dtype='<U5')],\n",
       "        [array(['C'], dtype='<U1'), array(['pm'], dtype='<U2')],\n",
       "        [array(['C'], dtype='<U1'), array(['direct'], dtype='<U6')],\n",
       "        [array(['C'], dtype='<U1'), array(['cs'], dtype='<U2')],\n",
       "        [array(['C'], dtype='<U1'), array(['meeting'], dtype='<U7')],\n",
       "        [array(['C'], dtype='<U1'), array(['original'], dtype='<U8')],\n",
       "        [array(['C'], dtype='<U1'), array(['project'], dtype='<U7')],\n",
       "        [array(['C'], dtype='<U1'), array(['re'], dtype='<U2')],\n",
       "        [array(['C'], dtype='<U1'), array(['edu'], dtype='<U3')],\n",
       "        [array(['C'], dtype='<U1'), array(['table'], dtype='<U5')],\n",
       "        [array(['C'], dtype='<U1'), array(['conference'], dtype='<U10')],\n",
       "        [array(['C'], dtype='<U1'), array([';'], dtype='<U1')],\n",
       "        [array(['C'], dtype='<U1'), array(['('], dtype='<U1')],\n",
       "        [array(['C'], dtype='<U1'), array(['['], dtype='<U1')],\n",
       "        [array(['C'], dtype='<U1'), array(['!'], dtype='<U1')],\n",
       "        [array(['C'], dtype='<U1'), array(['$'], dtype='<U1')],\n",
       "        [array(['C'], dtype='<U1'), array(['#'], dtype='<U1')],\n",
       "        [array(['C'], dtype='<U1'), array(['capAve'], dtype='<U6')],\n",
       "        [array(['C'], dtype='<U1'), array(['capLong'], dtype='<U7')],\n",
       "        [array(['C'], dtype='<U1'), array(['capTot'], dtype='<U6')]],\n",
       "       dtype=object),\n",
       " 'P_train': array([[0.000e+00, 6.000e-02, 0.000e+00, ..., 3.000e-01, 9.600e-01,\n",
       "         0.000e+00],\n",
       "        [6.400e-01, 0.000e+00, 0.000e+00, ..., 0.000e+00, 0.000e+00,\n",
       "         0.000e+00],\n",
       "        [6.400e-01, 7.100e-01, 0.000e+00, ..., 3.000e-01, 0.000e+00,\n",
       "         6.500e-01],\n",
       "        ...,\n",
       "        [3.756e+00, 9.821e+00, 3.537e+00, ..., 1.404e+00, 1.147e+00,\n",
       "         1.250e+00],\n",
       "        [6.100e+01, 4.850e+02, 4.000e+01, ..., 6.000e+00, 5.000e+00,\n",
       "         5.000e+00],\n",
       "        [2.780e+02, 2.259e+03, 1.910e+02, ..., 1.180e+02, 7.800e+01,\n",
       "         4.000e+01]]),\n",
       " 'T_train': array([[-1, -1, -1, ...,  1,  1,  1]], dtype=int16),\n",
       " 'P_test': array([[2.100e-01, 0.000e+00, 0.000e+00, ..., 0.000e+00, 0.000e+00,\n",
       "         0.000e+00],\n",
       "        [2.800e-01, 0.000e+00, 4.200e-01, ..., 0.000e+00, 0.000e+00,\n",
       "         0.000e+00],\n",
       "        [5.000e-01, 0.000e+00, 4.200e-01, ..., 3.030e+00, 0.000e+00,\n",
       "         0.000e+00],\n",
       "        ...,\n",
       "        [5.114e+00, 1.671e+00, 5.659e+00, ..., 1.111e+00, 1.000e+00,\n",
       "         2.468e+00],\n",
       "        [1.010e+02, 4.000e+00, 5.500e+01, ..., 2.000e+00, 1.000e+00,\n",
       "         1.100e+01],\n",
       "        [1.028e+03, 1.120e+02, 2.490e+02, ..., 1.000e+01, 2.200e+01,\n",
       "         7.900e+01]]),\n",
       " 'T_test': array([[-1, -1, -1, -1, -1, -1, -1, -1, -1, -1, -1, -1, -1, -1, -1, -1,\n",
       "         -1, -1, -1, -1, -1, -1, -1, -1, -1, -1, -1, -1, -1, -1, -1, -1,\n",
       "         -1, -1, -1, -1, -1, -1, -1, -1, -1, -1, -1, -1, -1, -1, -1, -1,\n",
       "         -1, -1, -1, -1, -1, -1, -1, -1, -1, -1, -1, -1, -1, -1, -1, -1,\n",
       "         -1, -1, -1, -1, -1, -1, -1, -1, -1, -1, -1, -1, -1, -1, -1, -1,\n",
       "         -1, -1, -1, -1, -1, -1, -1, -1, -1, -1, -1, -1, -1, -1, -1, -1,\n",
       "         -1, -1, -1, -1, -1, -1, -1, -1, -1, -1, -1, -1, -1, -1, -1, -1,\n",
       "         -1, -1, -1, -1, -1, -1, -1, -1, -1, -1, -1, -1, -1, -1, -1, -1,\n",
       "         -1, -1, -1, -1, -1, -1, -1, -1, -1, -1, -1, -1, -1, -1, -1, -1,\n",
       "         -1, -1, -1, -1, -1, -1, -1, -1, -1, -1, -1, -1, -1, -1, -1, -1,\n",
       "         -1, -1, -1, -1, -1, -1, -1, -1, -1, -1, -1, -1, -1, -1, -1, -1,\n",
       "         -1, -1, -1, -1, -1, -1, -1, -1, -1, -1, -1, -1, -1, -1, -1, -1,\n",
       "         -1, -1, -1, -1, -1, -1, -1, -1, -1, -1, -1, -1, -1, -1, -1, -1,\n",
       "         -1, -1, -1, -1, -1, -1, -1, -1, -1, -1, -1, -1, -1, -1, -1, -1,\n",
       "         -1, -1, -1, -1, -1, -1, -1, -1, -1, -1, -1, -1, -1, -1, -1, -1,\n",
       "         -1, -1, -1, -1, -1, -1, -1, -1, -1, -1, -1, -1, -1, -1, -1, -1,\n",
       "         -1, -1, -1, -1, -1, -1, -1, -1, -1, -1, -1, -1, -1, -1, -1, -1,\n",
       "         -1, -1, -1, -1, -1, -1, -1, -1, -1, -1, -1, -1, -1, -1, -1, -1,\n",
       "         -1, -1, -1, -1, -1, -1, -1, -1, -1, -1, -1, -1, -1, -1, -1, -1,\n",
       "         -1, -1, -1, -1, -1, -1, -1, -1, -1, -1, -1, -1, -1, -1, -1, -1,\n",
       "         -1, -1, -1, -1, -1, -1, -1, -1, -1, -1, -1, -1, -1, -1, -1, -1,\n",
       "         -1, -1, -1, -1, -1, -1, -1, -1, -1, -1, -1, -1, -1, -1, -1, -1,\n",
       "         -1, -1, -1, -1, -1, -1, -1, -1, -1, -1, -1, -1, -1, -1, -1,  1,\n",
       "          1,  1,  1,  1,  1,  1,  1,  1,  1,  1,  1,  1,  1,  1,  1,  1,\n",
       "          1,  1,  1,  1,  1,  1,  1,  1,  1,  1,  1,  1,  1,  1,  1,  1,\n",
       "          1,  1,  1,  1,  1,  1,  1,  1,  1,  1,  1,  1,  1,  1,  1,  1,\n",
       "          1,  1,  1,  1,  1,  1,  1,  1,  1,  1,  1,  1,  1,  1,  1,  1,\n",
       "          1,  1,  1,  1,  1,  1,  1,  1,  1,  1,  1,  1,  1,  1,  1,  1,\n",
       "          1,  1,  1,  1,  1,  1,  1,  1,  1,  1,  1,  1,  1,  1,  1,  1,\n",
       "          1,  1,  1,  1,  1,  1,  1,  1,  1,  1,  1,  1,  1,  1,  1,  1,\n",
       "          1,  1,  1,  1,  1,  1,  1,  1,  1,  1,  1,  1,  1,  1,  1,  1,\n",
       "          1,  1,  1,  1,  1,  1,  1,  1,  1,  1,  1,  1,  1,  1,  1,  1,\n",
       "          1,  1,  1,  1,  1,  1,  1,  1,  1,  1,  1,  1,  1,  1,  1,  1,\n",
       "          1,  1,  1,  1,  1,  1,  1,  1,  1,  1,  1,  1,  1,  1,  1,  1,\n",
       "          1,  1,  1,  1,  1,  1,  1,  1,  1,  1,  1,  1,  1,  1,  1,  1,\n",
       "          1,  1,  1,  1,  1,  1,  1,  1,  1,  1,  1,  1,  1,  1,  1,  1,\n",
       "          1,  1,  1,  1,  1,  1,  1,  1,  1,  1,  1,  1,  1,  1,  1,  1,\n",
       "          1,  1,  1,  1,  1,  1,  1,  1,  1,  1,  1,  1,  1,  1,  1,  1,\n",
       "          1,  1,  1,  1,  1,  1,  1,  1,  1,  1,  1,  1,  1,  1,  1,  1,\n",
       "          1,  1,  1,  1,  1,  1,  1,  1,  1,  1,  1,  1,  1,  1,  1,  1,\n",
       "          1,  1,  1,  1,  1,  1,  1,  1,  1,  1,  1,  1,  1,  1,  1,  1,\n",
       "          1,  1,  1,  1,  1,  1,  1,  1,  1,  1,  1,  1,  1,  1,  1,  1,\n",
       "          1,  1,  1,  1,  1,  1,  1,  1,  1,  1,  1,  1,  1,  1,  1,  1,\n",
       "          1,  1,  1,  1,  1,  1,  1,  1,  1,  1,  1,  1,  1,  1,  1,  1,\n",
       "          1,  1,  1,  1,  1,  1,  1,  1,  1,  1,  1,  1,  1,  1,  1,  1,\n",
       "          1,  1,  1,  1,  1,  1,  1,  1,  1,  1,  1,  1,  1,  1,  1,  1,\n",
       "          1,  1,  1,  1,  1,  1,  1,  1,  1,  1,  1,  1,  1,  1,  1,  1,\n",
       "          1,  1,  1,  1,  1,  1,  1,  1,  1,  1,  1,  1,  1,  1,  1,  1,\n",
       "          1,  1,  1,  1,  1,  1,  1,  1,  1,  1,  1,  1,  1,  1,  1,  1,\n",
       "          1,  1,  1,  1,  1,  1,  1,  1,  1,  1,  1,  1,  1,  1,  1,  1,\n",
       "          1,  1,  1,  1,  1,  1,  1,  1,  1,  1,  1,  1,  1,  1,  1,  1,\n",
       "          1,  1,  1,  1,  1,  1,  1,  1,  1,  1,  1,  1,  1,  1,  1,  1,\n",
       "          1,  1,  1,  1,  1,  1,  1,  1,  1,  1,  1,  1,  1,  1,  1,  1,\n",
       "          1,  1,  1,  1,  1,  1,  1,  1,  1,  1,  1,  1,  1,  1,  1,  1,\n",
       "          1,  1,  1,  1,  1,  1,  1,  1,  1,  1,  1,  1,  1,  1,  1,  1,\n",
       "          1,  1,  1,  1,  1,  1,  1,  1,  1,  1,  1,  1,  1,  1,  1,  1,\n",
       "          1,  1,  1,  1,  1,  1,  1,  1,  1,  1,  1,  1,  1,  1,  1,  1,\n",
       "          1,  1,  1,  1,  1,  1,  1,  1]], dtype=int16)}"
      ]
     },
     "execution_count": 11,
     "metadata": {},
     "output_type": "execute_result"
    }
   ],
   "source": [
    "data"
   ]
  },
  {
   "cell_type": "code",
   "execution_count": 66,
   "metadata": {},
   "outputs": [
    {
     "data": {
      "text/plain": [
       "(57, 3681)"
      ]
     },
     "execution_count": 66,
     "metadata": {},
     "output_type": "execute_result"
    }
   ],
   "source": [
    "data['P_train'].shape"
   ]
  },
  {
   "cell_type": "code",
   "execution_count": 53,
   "metadata": {},
   "outputs": [
    {
     "data": {
      "text/plain": [
       "(1, 3681)"
      ]
     },
     "execution_count": 53,
     "metadata": {},
     "output_type": "execute_result"
    }
   ],
   "source": [
    "data['T_train'].shape"
   ]
  },
  {
   "cell_type": "code",
   "execution_count": 44,
   "metadata": {},
   "outputs": [
    {
     "data": {
      "text/plain": [
       "dtype('<f8')"
      ]
     },
     "execution_count": 44,
     "metadata": {},
     "output_type": "execute_result"
    }
   ],
   "source": [
    "data['P_test']"
   ]
  },
  {
   "cell_type": "code",
   "execution_count": 61,
   "metadata": {},
   "outputs": [],
   "source": [
    "arr = np.array([[3.1,5,0],[.2,1,23]])\n",
    "y = np.array([[1,2,3]])"
   ]
  },
  {
   "cell_type": "code",
   "execution_count": 62,
   "metadata": {},
   "outputs": [
    {
     "data": {
      "text/plain": [
       "(2, 3)"
      ]
     },
     "execution_count": 62,
     "metadata": {},
     "output_type": "execute_result"
    }
   ],
   "source": [
    "arr.shape"
   ]
  },
  {
   "cell_type": "code",
   "execution_count": 63,
   "metadata": {},
   "outputs": [
    {
     "data": {
      "text/plain": [
       "(1, 3)"
      ]
     },
     "execution_count": 63,
     "metadata": {},
     "output_type": "execute_result"
    }
   ],
   "source": [
    "y.shape"
   ]
  },
  {
   "cell_type": "code",
   "execution_count": 72,
   "metadata": {},
   "outputs": [],
   "source": [
    "modif = data['names'][:,1:]"
   ]
  },
  {
   "cell_type": "code",
   "execution_count": 81,
   "metadata": {},
   "outputs": [
    {
     "data": {
      "text/plain": [
       "numpy.ndarray"
      ]
     },
     "execution_count": 81,
     "metadata": {},
     "output_type": "execute_result"
    }
   ],
   "source": [
    "type(data['P_train'])"
   ]
  },
  {
   "cell_type": "code",
   "execution_count": null,
   "metadata": {},
   "outputs": [],
   "source": []
  },
  {
   "cell_type": "code",
   "execution_count": null,
   "metadata": {},
   "outputs": [],
   "source": []
  }
 ],
 "metadata": {
  "kernelspec": {
   "display_name": "Python 3",
   "language": "python",
   "name": "python3"
  },
  "language_info": {
   "codemirror_mode": {
    "name": "ipython",
    "version": 3
   },
   "file_extension": ".py",
   "mimetype": "text/x-python",
   "name": "python",
   "nbconvert_exporter": "python",
   "pygments_lexer": "ipython3",
   "version": "3.6.6"
  }
 },
 "nbformat": 4,
 "nbformat_minor": 2
}
