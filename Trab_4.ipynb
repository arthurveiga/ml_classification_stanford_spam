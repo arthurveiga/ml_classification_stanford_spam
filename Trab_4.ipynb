{
 "cells": [
  {
   "cell_type": "code",
   "execution_count": 34,
   "metadata": {},
   "outputs": [],
   "source": [
    "import scipy.io\n",
    "import numpy as np\n",
    "import matplotlib.pyplot as plt\n",
    "import pandas as pd\n",
    "from sklearn.neural_network import MLPClassifier\n",
    "from sklearn.model_selection import GridSearchCV\n",
    "from sklearn.preprocessing import StandardScaler\n",
    "from sklearn.model_selection import StratifiedShuffleSplit"
   ]
  },
  {
   "cell_type": "code",
   "execution_count": 78,
   "metadata": {},
   "outputs": [
    {
     "data": {
      "image/png": "[encoded data removed]",
      "text/plain": [
       "<Figure size 432x288 with 1 Axes>"
      ]
     },
     "metadata": {
      "needs_background": "light"
     },
     "output_type": "display_data"
    }
   ],
   "source": [
    "# carregando os dados\n",
    "data = scipy.io.loadmat(\"data/spam_data.mat\")\n",
    "names = [x[0] for x in data['names'][:,1:].ravel()]\n",
    "X = np.concatenate([data['P_train'].transpose(),data['P_test'].transpose()])\n",
    "y = np.concatenate([data['T_train'].transpose(),data['T_test'].transpose()]).ravel()\n",
    "for i in range(57):\n",
    "    plt.scatter(y, X.transpose()[i], color=\"r\")\n",
    "plt.show()\n"
   ]
  },
  {
   "cell_type": "code",
   "execution_count": 6,
   "metadata": {},
   "outputs": [
    {
     "name": "stdout",
     "output_type": "stream",
     "text": [
      "Acurácia com MLP default 0.9086767895878525\n"
     ]
    }
   ],
   "source": [
    "cv = StratifiedShuffleSplit(n_splits=10, test_size=0.1)\n",
    "grid = GridSearchCV(MLPClassifier(), param_grid={}, cv=cv, scoring=\"accuracy\", return_train_score=False)\n",
    "grid.fit(X, y)\n",
    "print(\"Acurácia com MLP default (hidden layer activation relu, constant learning_rate_init 0.001):\", grid.cv_results_['mean_test_score'][0])"
   ]
  },
  {
   "cell_type": "code",
   "execution_count": 93,
   "metadata": {},
   "outputs": [
    {
     "name": "stdout",
     "output_type": "stream",
     "text": [
      "Acurácia com MLP com hidden layer activation tanh, constant learning_rate_init 0.0004: 0.9396963123644252\n",
      "Acurácia com MLP com hidden layer activation tanh, adaptive learning_rate_init 0.0004: 0.9394793926247289\n",
      "Acurácia com MLP com hidden layer activation tanh, invscaling learning_rate_init 0.0004: 0.9353579175704989\n"
     ]
    }
   ],
   "source": [
    "cv = StratifiedShuffleSplit(n_splits=10, test_size=0.1)\n",
    "#https://scikit-learn.org/stable/modules/generated/sklearn.neural_network.MLPClassifier.html#sklearn.neural_network.MLPClassifier\n",
    "clf1 = MLPClassifier(verbose=0, random_state=0, activation=\"tanh\", learning_rate=\"constant\", learning_rate_init=0.0004)\n",
    "grid1 = GridSearchCV(clf1, param_grid={}, cv=cv, scoring=\"accuracy\", return_train_score=False)\n",
    "grid1.fit(X, y)\n",
    "\n",
    "clf2 = MLPClassifier(verbose=0, random_state=0, activation=\"tanh\", learning_rate=\"adaptive\", learning_rate_init=0.0004)\n",
    "grid2 = GridSearchCV(clf1, param_grid={}, cv=cv, scoring=\"accuracy\", return_train_score=False)\n",
    "grid2.fit(X, y)\n",
    "\n",
    "clf3 = MLPClassifier(verbose=0, random_state=0, activation=\"tanh\", learning_rate=\"invscaling\", learning_rate_init=0.0004)\n",
    "grid3 = GridSearchCV(clf1, param_grid={}, cv=cv, scoring=\"accuracy\", return_train_score=False)\n",
    "grid3.fit(X, y)\n",
    "\n",
    "print(\"Acurácia com MLP com hidden layer activation tanh, constant learning_rate_init 0.0004:\", grid1.cv_results_['mean_test_score'][0])\n",
    "print(\"Acurácia com MLP com hidden layer activation tanh, adaptive learning_rate_init 0.0004:\", grid2.cv_results_['mean_test_score'][0])\n",
    "print(\"Acurácia com MLP com hidden layer activation tanh, invscaling learning_rate_init 0.0004:\", grid3.cv_results_['mean_test_score'][0])"
   ]
  },
  {
   "cell_type": "code",
   "execution_count": 94,
   "metadata": {},
   "outputs": [
    {
     "name": "stdout",
     "output_type": "stream",
     "text": [
      "Acurácia com MLP com hidden layer activation tanh, constant learning_rate_init 0.0004: 0.8997830802603037\n",
      "Acurácia com MLP com hidden layer activation tanh, adaptive learning_rate_init 0.0004: 0.906941431670282\n",
      "Acurácia com MLP com hidden layer activation tanh, invscaling learning_rate_init 0.0004: 0.8978308026030368\n"
     ]
    }
   ],
   "source": [
    "cv = StratifiedShuffleSplit(n_splits=10, test_size=0.1)\n",
    "#https://scikit-learn.org/stable/modules/generated/sklearn.neural_network.MLPClassifier.html#sklearn.neural_network.MLPClassifier\n",
    "clf1 = MLPClassifier(verbose=0, random_state=0, activation=\"identity\", learning_rate=\"constant\", learning_rate_init=0.0004)\n",
    "grid1 = GridSearchCV(clf1, param_grid={}, cv=cv, scoring=\"accuracy\", return_train_score=False)\n",
    "grid1.fit(X, y)\n",
    "\n",
    "clf2 = MLPClassifier(verbose=0, random_state=0, activation=\"identity\", learning_rate=\"adaptive\", learning_rate_init=0.0004)\n",
    "grid2 = GridSearchCV(clf1, param_grid={}, cv=cv, scoring=\"accuracy\", return_train_score=False)\n",
    "grid2.fit(X, y)\n",
    "\n",
    "clf3 = MLPClassifier(verbose=0, random_state=0, activation=\"identity\", learning_rate=\"invscaling\", learning_rate_init=0.0004)\n",
    "grid3 = GridSearchCV(clf1, param_grid={}, cv=cv, scoring=\"accuracy\", return_train_score=False)\n",
    "grid3.fit(X, y)\n",
    "\n",
    "print(\"Acurácia com MLP com hidden layer activation tanh, constant learning_rate_init 0.0004:\", grid1.cv_results_['mean_test_score'][0])\n",
    "print(\"Acurácia com MLP com hidden layer activation tanh, adaptive learning_rate_init 0.0004:\", grid2.cv_results_['mean_test_score'][0])\n",
    "print(\"Acurácia com MLP com hidden layer activation tanh, invscaling learning_rate_init 0.0004:\", grid3.cv_results_['mean_test_score'][0])"
   ]
  },
  {
   "cell_type": "code",
   "execution_count": 95,
   "metadata": {},
   "outputs": [
    {
     "name": "stdout",
     "output_type": "stream",
     "text": [
      "Acurácia com MLP com hidden layer activation tanh, constant learning_rate_init 0.0004: 0.9297180043383948\n",
      "Acurácia com MLP com hidden layer activation tanh, adaptive learning_rate_init 0.0004: 0.9336225596529284\n",
      "Acurácia com MLP com hidden layer activation tanh, invscaling learning_rate_init 0.0004: 0.9301518438177874\n"
     ]
    }
   ],
   "source": [
    "cv = StratifiedShuffleSplit(n_splits=10, test_size=0.1)\n",
    "#https://scikit-learn.org/stable/modules/generated/sklearn.neural_network.MLPClassifier.html#sklearn.neural_network.MLPClassifier\n",
    "clf1 = MLPClassifier(verbose=0, random_state=0, activation=\"logistic\", learning_rate=\"constant\", learning_rate_init=0.0004)\n",
    "grid1 = GridSearchCV(clf1, param_grid={}, cv=cv, scoring=\"accuracy\", return_train_score=False)\n",
    "grid1.fit(X, y)\n",
    "\n",
    "clf2 = MLPClassifier(verbose=0, random_state=0, activation=\"logistic\", learning_rate=\"adaptive\", learning_rate_init=0.0004)\n",
    "grid2 = GridSearchCV(clf1, param_grid={}, cv=cv, scoring=\"accuracy\", return_train_score=False)\n",
    "grid2.fit(X, y)\n",
    "\n",
    "clf3 = MLPClassifier(verbose=0, random_state=0, activation=\"logistic\", learning_rate=\"invscaling\", learning_rate_init=0.0004)\n",
    "grid3 = GridSearchCV(clf1, param_grid={}, cv=cv, scoring=\"accuracy\", return_train_score=False)\n",
    "grid3.fit(X, y)\n",
    "\n",
    "print(\"Acurácia com MLP com hidden layer activation tanh, constant learning_rate_init 0.0004:\", grid1.cv_results_['mean_test_score'][0])\n",
    "print(\"Acurácia com MLP com hidden layer activation tanh, adaptive learning_rate_init 0.0004:\", grid2.cv_results_['mean_test_score'][0])\n",
    "print(\"Acurácia com MLP com hidden layer activation tanh, invscaling learning_rate_init 0.0004:\", grid3.cv_results_['mean_test_score'][0])"
   ]
  },
  {
   "cell_type": "code",
   "execution_count": null,
   "metadata": {},
   "outputs": [],
   "source": [
    "cv = StratifiedShuffleSplit(n_splits=10, test_size=0.1)\n",
    "#https://scikit-learn.org/stable/modules/generated/sklearn.neural_network.MLPClassifier.html#sklearn.neural_network.MLPClassifier\n",
    "clf1 = MLPClassifier(verbose=0, random_state=0, activation=\"relu\", learning_rate=\"constant\", learning_rate_init=0.0004)\n",
    "grid1 = GridSearchCV(clf1, param_grid={}, cv=cv, scoring=\"accuracy\", return_train_score=False)\n",
    "grid1.fit(X, y)\n",
    "\n",
    "clf2 = MLPClassifier(verbose=0, random_state=0, activation=\"relu\", learning_rate=\"adaptive\", learning_rate_init=0.0004)\n",
    "grid2 = GridSearchCV(clf1, param_grid={}, cv=cv, scoring=\"accuracy\", return_train_score=False)\n",
    "grid2.fit(X, y)\n",
    "\n",
    "clf3 = MLPClassifier(verbose=0, random_state=0, activation=\"relu\", learning_rate=\"invscaling\", learning_rate_init=0.0004)\n",
    "grid3 = GridSearchCV(clf1, param_grid={}, cv=cv, scoring=\"accuracy\", return_train_score=False)\n",
    "grid3.fit(X, y)\n",
    "\n",
    "print(\"Acurácia com MLP com hidden layer activation tanh, constant learning_rate_init 0.0004:\", grid1.cv_results_['mean_test_score'][0])\n",
    "print(\"Acurácia com MLP com hidden layer activation tanh, adaptive learning_rate_init 0.0004:\", grid2.cv_results_['mean_test_score'][0])\n",
    "print(\"Acurácia com MLP com hidden layer activation tanh, invscaling learning_rate_init 0.0004:\", grid3.cv_results_['mean_test_score'][0])"
   ]
  },
  {
   "cell_type": "code",
   "execution_count": null,
   "metadata": {},
   "outputs": [],
   "source": []
  }
 ],
 "metadata": {
  "kernelspec": {
   "display_name": "Python 3",
   "language": "python",
   "name": "python3"
  },
  "language_info": {
   "codemirror_mode": {
    "name": "ipython",
    "version": 3
   },
   "file_extension": ".py",
   "mimetype": "text/x-python",
   "name": "python",
   "nbconvert_exporter": "python",
   "pygments_lexer": "ipython3",
   "version": "3.6.6"
  }
 },
 "nbformat": 4,
 "nbformat_minor": 2
}
